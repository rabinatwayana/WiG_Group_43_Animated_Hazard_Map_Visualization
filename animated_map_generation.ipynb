{
  "cells": [
    {
      "cell_type": "code",
      "execution_count": null,
      "metadata": {},
      "outputs": [],
      "source": [
        "# !pip install imageio"
      ]
    },
    {
      "cell_type": "code",
      "execution_count": null,
      "metadata": {
        "colab": {
          "base_uri": "https://localhost:8080/"
        },
        "id": "-agrN3yS98aY",
        "outputId": "10a5fc3a-a0f7-4dd4-e5d6-2c4ea71928c7"
      },
      "outputs": [],
      "source": [
        "import geopandas as gpd\n",
        "import pandas as pd\n",
        "import matplotlib.pyplot as plt\n",
        "import imageio.v2 as imageio\n",
        "import os"
      ]
    },
    {
      "cell_type": "code",
      "execution_count": null,
      "metadata": {
        "colab": {
          "base_uri": "https://localhost:8080/"
        },
        "id": "4BoW44b1Jt9y",
        "outputId": "264eed8c-8ad6-4e83-ab85-03c4ff7a4fcb"
      },
      "outputs": [],
      "source": [
        "# Load shapefiles of all seven provinces\n",
        "province_shapes = {}\n",
        "for i in range(1, 8):\n",
        "    province_shapes[f'Pr{i}'] = gpd.read_file(f'/home/rabina/Projects/rabina/MAP VISUALIZATION/shapefiles/Pr{i}.shp')\n",
        "    \n",
        "# Concatenate all provinces into a single GeoDataFrame\n",
        "all_provinces = pd.concat(province_shapes.values(), ignore_index=True)\n",
        "\n",
        "all_provinces.rename(columns={'PROVINCE': 'Province'}, inplace=True)\n",
        "\n",
        "hazard_data=pd.read_csv(r'/home/rabina/Projects/rabina/MAP VISUALIZATION/provine_wise_hazard_combined_sheet.csv')\n",
        "\n",
        "hazard_data_columns=hazard_data.columns.to_list()\n",
        "hazard_data_columns.remove('Year')\n",
        "hazard_data_columns.remove('Province')\n",
        "\n",
        "hazard_data['Year']=pd.to_datetime(hazard_data['Year'],format='%Y')\n",
        "hazard_data['Year'] = hazard_data['Year'].dt.strftime('%Y')"
      ]
    },
    {
      "cell_type": "code",
      "execution_count": null,
      "metadata": {
        "colab": {
          "base_uri": "https://localhost:8080/",
          "height": 1000
        },
        "id": "UrOi4wvgthJ1",
        "outputId": "c2a5c109-87d4-4d2e-e6da-f66dc2de3d18"
      },
      "outputs": [],
      "source": [
        "# Iterate over each year\n",
        "global_min=0\n",
        "\n",
        "# hazard_data_columns=['Flood']\n",
        "\n",
        "max_limits={'Flood':131, 'Landslide':170, 'Storm':17, 'Earthquake':77, 'Heavy Rainfall':98, 'Cold Wave':46, 'Animal Incidents':160, 'Forest Fire':315, 'Avalanche':3, 'Wind Storm':69, 'Fire':313, 'Snow Storm':2, 'Thunderbolt':93, 'Epidemic':17}\n",
        "\n",
        "\n",
        "for hazard_name in hazard_data_columns:\n",
        "    print(f\"******{hazard_name}************\")\n",
        "    frames=[]\n",
        "    global_max=max_limits[hazard_name]\n",
        "    try:\n",
        "        for year in range(2011, 2025):\n",
        "            # Create a figure and axis\n",
        "            fig, ax = plt.subplots(figsize=(10, 10))\n",
        "\n",
        "            # Filter hazard data for the current year\n",
        "            hazard_data_year = hazard_data[hazard_data['Year'] == str(year)].astype(str)\n",
        "\n",
        "            # Merge hazard data with all provinces\n",
        "            all_provinces['Province'] = all_provinces['Province'].astype(str)\n",
        "            hazard_data['Province'] = hazard_data['Province'].astype(str)\n",
        "            \n",
        "            merged = all_provinces.merge(hazard_data_year, on='Province')\n",
        "            merged[hazard_name] = pd.to_numeric(merged[hazard_name], errors='coerce')\n",
        "            \n",
        "            # Plot all provinces together, coloring based on the number of hazard incidents for the current year\n",
        "            merged.plot(column=hazard_name, cmap='Oranges', linewidth=0.8, ax=ax, edgecolor='0.8', legend=True,vmin=global_min, vmax=global_max)\n",
        "\n",
        "            # Set plot title and labels\n",
        "            ax.set_title(f'{hazard_name} Incidents in Nepal - Year {year}')\n",
        "            ax.set_xlabel('Longitude')\n",
        "            ax.set_ylabel('Latitude')\n",
        "            \n",
        "            # Save the plot as an image\n",
        "            temp_image_path=f'/home/rabina/Projects/rabina/MAP VISUALIZATION/temp_output/nepal_{hazard_name}_{year}.png'\n",
        "            plt.savefig(temp_image_path)\n",
        "            plt.show()\n",
        "            \n",
        "            # Append the file path to the list of frames\n",
        "            frames.append(temp_image_path)\n",
        "            # Close the plot to avoid memory leaks\n",
        "            plt.close()\n",
        "\n",
        "        # Create the animation\n",
        "        animation_path = f\"./animated_output/{hazard_name}.gif\"\n",
        "        with imageio.get_writer(animation_path, mode='I', duration=6,fps=1) as writer:\n",
        "            for temp_image_path in frames:\n",
        "                image = imageio.imread(temp_image_path)\n",
        "                writer.append_data(image)\n",
        "                \n",
        "        # Clean up temporary image files\n",
        "        for temp_image_path in frames:\n",
        "            os.remove(temp_image_path)\n",
        "        print(\"Animation creation completed.\")\n",
        "    except Exception as e:\n",
        "        print(str(e))"
      ]
    }
  ],
  "metadata": {
    "colab": {
      "provenance": []
    },
    "kernelspec": {
      "display_name": "Python 3",
      "name": "python3"
    },
    "language_info": {
      "codemirror_mode": {
        "name": "ipython",
        "version": 3
      },
      "file_extension": ".py",
      "mimetype": "text/x-python",
      "name": "python",
      "nbconvert_exporter": "python",
      "pygments_lexer": "ipython3",
      "version": "3.10.0"
    }
  },
  "nbformat": 4,
  "nbformat_minor": 0
}
